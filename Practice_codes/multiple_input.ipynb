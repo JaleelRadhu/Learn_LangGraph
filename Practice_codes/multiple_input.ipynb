{
 "cells": [
  {
   "cell_type": "code",
   "execution_count": 1,
   "id": "268088c9",
   "metadata": {},
   "outputs": [],
   "source": [
    "from typing import TypedDict, List\n",
    "from langgraph.graph import StateGraph\n"
   ]
  },
  {
   "cell_type": "code",
   "execution_count": 2,
   "id": "8dd4da40",
   "metadata": {},
   "outputs": [],
   "source": [
    "import math\n",
    "class StateAgent(TypedDict):\n",
    "    name: str\n",
    "    values: List[int]\n",
    "    operation: str\n",
    "    result: str\n",
    "\n",
    "def process(state: StateAgent) -> StateAgent:\n",
    "    if(state[\"operation\"]=='*'):\n",
    "        \n",
    "        state['result'] = f\"Hello {state['name']} your answer = {math.prod(state['values'])}\"\n",
    "    elif(state['operation']=='+'):\n",
    "        state['result'] = f\"Hello {state['name']} your answer = {sum(state['values'])}\"\n",
    "    else:\n",
    "        print(\"Invalid operation\")\n",
    "        \n",
    "    return state\n",
    "\n",
    "graph = StateGraph(StateAgent)\n",
    "\n",
    "graph.add_node(\"processor\", process)\n",
    "graph.set_entry_point(\"processor\")\n",
    "graph.set_finish_point(\"processor\")\n",
    "\n",
    "\n",
    "app = graph.compile()"
   ]
  },
  {
   "cell_type": "code",
   "execution_count": 6,
   "id": "38dd7707",
   "metadata": {},
   "outputs": [
    {
     "name": "stdout",
     "output_type": "stream",
     "text": [
      "{'name': 'Bob', 'values': [1, 2, 3, 4], 'operation': '*'}\n",
      "<langgraph.graph.state.CompiledStateGraph object at 0x7f2f70455550>\n",
      "{'name': 'Bob', 'values': [1, 2, 3, 4], 'operation': '*', 'result': 'Hello Bob your answer = 24'}\n"
     ]
    }
   ],
   "source": [
    "input: StateAgent = {\"name\":\"Bob\", \"values\":[1, 2, 3, 4], \"operation\":\"*\"}\n",
    "\n",
    "result= app.invoke(input)\n",
    "print(input)\n",
    "\n",
    "print(app)\n",
    "print(result)\n"
   ]
  },
  {
   "cell_type": "code",
   "execution_count": null,
   "id": "e98a1a05",
   "metadata": {},
   "outputs": [],
   "source": []
  }
 ],
 "metadata": {
  "kernelspec": {
   "display_name": "jaleel_langgraph",
   "language": "python",
   "name": "python3"
  },
  "language_info": {
   "codemirror_mode": {
    "name": "ipython",
    "version": 3
   },
   "file_extension": ".py",
   "mimetype": "text/x-python",
   "name": "python",
   "nbconvert_exporter": "python",
   "pygments_lexer": "ipython3",
   "version": "3.13.7"
  }
 },
 "nbformat": 4,
 "nbformat_minor": 5
}
