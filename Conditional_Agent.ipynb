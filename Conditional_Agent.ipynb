{
 "cells": [
  {
   "cell_type": "code",
   "execution_count": 1,
   "id": "70e1bc7e",
   "metadata": {},
   "outputs": [],
   "source": [
    "from typing import TypedDict\n",
    "from langgraph.graph import StateGraph, START, END\n"
   ]
  },
  {
   "cell_type": "code",
   "execution_count": 2,
   "id": "d019dce8",
   "metadata": {},
   "outputs": [],
   "source": [
    "class StateAgent(TypedDict):\n",
    "    number1: int\n",
    "    opertion: str\n",
    "    number2: int\n",
    "    finalNumber: int\n",
    "    "
   ]
  },
  {
   "cell_type": "code",
   "execution_count": 7,
   "id": "cd92a338",
   "metadata": {},
   "outputs": [],
   "source": [
    "def adder(state: StateAgent) -> StateAgent:\n",
    "    \n",
    "    state[\"finalNumber\"] = state[\"number1\"] + state[\"number2\"]\n",
    "    return state\n",
    "\n",
    "def subtractor(state: StateAgent) -> StateAgent:\n",
    "    state[\"finalNumber\"] = state[\"number1\"] - state[\"number2\"]\n",
    "    return state\n",
    "\n",
    "def decide_next_node(state: StateAgent) -> str:\n",
    "    \n",
    "    if(state[\"operation\"]==\"+\"):\n",
    "        return \"addition_operation\"\n",
    "    \n",
    "    elif(state[\"operation\"]==\"-\"):\n",
    "        return \"subtraction_operation\"\n",
    "    \n"
   ]
  },
  {
   "cell_type": "code",
   "execution_count": null,
   "id": "f7b6c473",
   "metadata": {},
   "outputs": [],
   "source": [
    "graph = StateGraph(StateAgent)\n",
    "\n",
    "graph.add_node()"
   ]
  }
 ],
 "metadata": {
  "kernelspec": {
   "display_name": "jaleel_langgraph",
   "language": "python",
   "name": "python3"
  },
  "language_info": {
   "codemirror_mode": {
    "name": "ipython",
    "version": 3
   },
   "file_extension": ".py",
   "mimetype": "text/x-python",
   "name": "python",
   "nbconvert_exporter": "python",
   "pygments_lexer": "ipython3",
   "version": "3.13.7"
  }
 },
 "nbformat": 4,
 "nbformat_minor": 5
}
